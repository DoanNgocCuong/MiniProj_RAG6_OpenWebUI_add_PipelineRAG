{
 "cells": [
  {
   "cell_type": "code",
   "execution_count": null,
   "metadata": {},
   "outputs": [],
   "source": []
  },
  {
   "cell_type": "markdown",
   "metadata": {},
   "source": [
    "## 1.1 \n",
    "```\n",
    "cái này có clone code xuống hay gì ko nhỉ, hay chạy qua đâu . \n",
    "\n",
    "B1 chạy pipeline trước hay chạy openweb ui trước \n",
    "```"
   ]
  },
  {
   "cell_type": "markdown",
   "metadata": {},
   "source": [
    "### **Giải đáp thắc mắc: Clone code hay chạy trực tiếp?**\n",
    "\n",
    "- **Pipelines**: Bạn **không cần clone code xuống** nếu sử dụng Docker. Docker image của Pipelines đã chứa toàn bộ mã nguồn và các cấu hình cần thiết. Bạn chỉ cần chạy lệnh Docker là đủ.\n",
    "- **Open WebUI**: Tương tự, bạn cũng **không cần clone mã nguồn** khi sử dụng Docker. Chạy container Docker là đủ để khởi động Open WebUI.\n",
    "\n",
    "Nếu bạn muốn tuỳ chỉnh sâu (ví dụ: tạo Pipelines hoặc thay đổi cấu hình), thì bạn có thể **clone mã nguồn** về từ GitHub và chạy thủ công bằng Python. Tuy nhiên, với mục đích sử dụng cơ bản, Docker là lựa chọn dễ dàng và nhanh chóng nhất.\n",
    "\n",
    "---\n",
    "\n",
    "### **Chạy Pipelines trước hay Open WebUI trước?**\n",
    "\n",
    "1. **Bắt buộc phải chạy Pipelines trước** nếu bạn muốn kết nối Open WebUI với Pipelines.  \n",
    "   - Pipelines là dịch vụ trung gian xử lý các tác vụ và tích hợp các mô-đun mở rộng.\n",
    "   - Open WebUI cần URL của Pipelines để gửi yêu cầu (API URL).\n",
    "\n",
    "2. **Quy trình cụ thể:**\n",
    "   - **Bước 1:** Chạy **Pipelines** để khởi động dịch vụ.\n",
    "   - **Bước 2:** Sau khi Pipelines chạy ổn định, chạy **Open WebUI**.\n",
    "   - **Bước 3:** Cấu hình Open WebUI để kết nối với Pipelines (nhập URL `http://localhost:9099` trong phần cấu hình).\n",
    "\n",
    "---\n",
    "\n",
    "### **Nếu chỉ muốn chạy Open WebUI mà không dùng Pipelines?**\n",
    "- Bạn có thể chạy trực tiếp Open WebUI mà không cần chạy Pipelines.\n",
    "- Điều này phù hợp nếu bạn chỉ sử dụng các tính năng cơ bản của Open WebUI hoặc kết nối trực tiếp với API OpenAI.\n",
    "\n",
    "---\n",
    "\n",
    "Nếu bạn cần hướng dẫn tiếp theo về thiết lập hoặc kiểm tra kết nối, cứ hỏi nhé! 😊"
   ]
  },
  {
   "cell_type": "markdown",
   "metadata": {},
   "source": [
    "## 1.2 Xem thử: FlashRAG và LightRAG"
   ]
  }
 ],
 "metadata": {
  "language_info": {
   "name": "python"
  }
 },
 "nbformat": 4,
 "nbformat_minor": 2
}
