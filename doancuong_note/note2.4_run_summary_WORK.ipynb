{
 "cells": [
  {
   "cell_type": "markdown",
   "metadata": {},
   "source": [
    "\n",
    "- Run docker open-webui\n",
    "```\n",
    "docker run -d -p 3000:8080 -v open-webui:/app/backend/data --name open-webui --restart always ghcr.io/open-webui/open-webui:main\n",
    "```\n",
    "\n",
    "Ở window: đúng ra là khi run docker pipeline xong là sẽ có giao diện chuẩn để chọn Pipeline, ko hiểu bug ở đâu\n",
    "\n",
    "- Run docker pipeline\n",
    "```\n",
    "docker run -d -p 9099:9099 --add-host=host.docker.internal:host-gateway -v pipelines:/app/pipelines --name pipelines --restart always ghcr.io/open-webui/pipelines:main\n",
    "```\n",
    "\n",
    "---\n",
    "Trong git clone của pipeline, có file `dev-docker.sh` run 1 cái kích hoạt cả 2 lệnh trên, khá ngon. "
   ]
  },
  {
   "cell_type": "markdown",
   "metadata": {},
   "source": [
    "## Run 9099 ko qua docker. \n",
    "\n",
    "-Ở WSL thì như này\n",
    "```\n",
    "Clone the Pipelines repository:\n",
    "\n",
    "git clone https://github.com/open-webui/pipelines.git\n",
    "cd pipelines\n",
    "\n",
    "Install the required dependencies:\n",
    "\n",
    "pip install -r requirements.txt\n",
    "\n",
    "Start the Pipelines server:\n",
    "\n",
    "sh ./start.sh\n",
    "\n",
    "```\n",
    "\n",
    "Còn ko thì window cũng đã có `start.bat`\n",
    "\n"
   ]
  },
  {
   "cell_type": "markdown",
   "metadata": {},
   "source": [
    "## Đem `dev-docker.sh` ra WIndow: \n",
    "```BASH\n",
    "# Runs the containers with Ollama image for Open WebUI and the Pipelines endpoint in place\n",
    "docker run -d -p 9099:9099 --add-host=host.docker.internal:host-gateway -v pipelines:/app/pipelines --name pipelines --restart always --env-file .env ghcr.io/open-webui/pipelines:latest\n",
    "docker run -d -p 3000:8080 -p 11434:11434 --add-host=host.docker.internal:host-gateway -v ~/.ollama:/root/.ollama -v open-webui:/app/backend/data --name open-webui --restart always -e OPENAI_API_BASE_URL=http://host.docker.internal:9099 -e OPENAI_API_KEY=0p3n-w3bu! -e OLLAMA_HOST=0.0.0.0 ghcr.io/open-webui/open-webui:ollama\n",
    "```\n",
    "\n",
    "=> Ra là cách run call 3000 hơi khác tí để nó connect được với PIPELINE. \n",
    "tui thấy nó đã truyền trực tiếp API_BASE_URL, KEY=op3n-w3bu! \n",
    "(Cái mà bên hướng dẫn kêu mình tự truêền bằng tay ở mục Connections mà ko được)??\n",
    "\n",
    "## HAY LÀ MỤC CONNECTIONS CÓ VẤN ĐỀ ???"
   ]
  },
  {
   "cell_type": "markdown",
   "metadata": {},
   "source": []
  },
  {
   "cell_type": "markdown",
   "metadata": {},
   "source": []
  },
  {
   "cell_type": "code",
   "execution_count": null,
   "metadata": {},
   "outputs": [],
   "source": []
  }
 ],
 "metadata": {
  "language_info": {
   "name": "python"
  }
 },
 "nbformat": 4,
 "nbformat_minor": 2
}
