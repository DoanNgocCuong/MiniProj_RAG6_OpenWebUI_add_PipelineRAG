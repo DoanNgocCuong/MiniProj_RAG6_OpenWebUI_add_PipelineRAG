{
 "cells": [
  {
   "cell_type": "markdown",
   "metadata": {},
   "source": [
    "\n",
    "- Run docker open-webui\n",
    "```\n",
    "docker run -d -p 3000:8080 -v open-webui:/app/backend/data --name open-webui --restart always ghcr.io/open-webui/open-webui:main\n",
    "```\n",
    "\n",
    "Ở window: đúng ra là khi run docker pipeline xong là sẽ có giao diện chuẩn để chọn Pipeline, ko hiểu bug ở đâu\n",
    "\n",
    "- Run docker pipeline\n",
    "```\n",
    "docker run -d -p 9099:9099 --add-host=host.docker.internal:host-gateway -v pipelines:/app/pipelines --name pipelines --restart always ghcr.io/open-webui/pipelines:main\n",
    "```\n",
    "\n",
    "---\n",
    "Trong git clone của pipeline, có file `dev-docker.sh` run 1 cái kích hoạt cả 2 lệnh trên, khá ngon. "
   ]
  },
  {
   "cell_type": "markdown",
   "metadata": {},
   "source": [
    "## Run 9099 ko qua docker. \n",
    "\n",
    "-Ở WSL thì như này\n",
    "```\n",
    "Clone the Pipelines repository:\n",
    "\n",
    "git clone https://github.com/open-webui/pipelines.git\n",
    "cd pipelines\n",
    "\n",
    "Install the required dependencies:\n",
    "\n",
    "pip install -r requirements.txt\n",
    "\n",
    "Start the Pipelines server:\n",
    "\n",
    "sh ./start.sh\n",
    "\n",
    "```\n",
    "\n",
    "Còn ko thì window cũng đã có `start.bat`\n",
    "\n"
   ]
  },
  {
   "cell_type": "markdown",
   "metadata": {},
   "source": []
  },
  {
   "cell_type": "markdown",
   "metadata": {},
   "source": []
  },
  {
   "cell_type": "code",
   "execution_count": null,
   "metadata": {},
   "outputs": [],
   "source": []
  }
 ],
 "metadata": {
  "language_info": {
   "name": "python"
  }
 },
 "nbformat": 4,
 "nbformat_minor": 2
}
