{
 "cells": [
  {
   "cell_type": "markdown",
   "metadata": {},
   "source": [
    "1. Khi tôi run: \n",
    "```\n",
    "sh ./start.sh\n",
    "```\n",
    "với việc run: 3000 ở window. \n",
    "\n",
    "- Tôi nhận được lỗi: \n",
    "```\n",
    "INFO:     Uvicorn running on http://0.0.0.0:9099 (Press CTRL+C to quit)\n",
    "INFO:     127.0.0.1:37212 - \"GET / HTTP/1.1\" 200 OK\n",
    "INFO:     127.0.0.1:59288 - \"GET /api/tags HTTP/1.1\" 404 Not Found\n",
    "INFO:     127.0.0.1:35926 - \"GET /api/tags HTTP/1.1\" 404 Not Found\n",
    "INFO:     127.0.0.1:36654 - \"GET /api/tags HTTP/1.1\" 404 Not Found\n",
    "```\n",
    "\n",
    "\n",
    "2. Khi tôi run: \n",
    "```\n",
    "dev-docker.sh\n",
    "```\n",
    "thì ngon luôn. \n",
    "Và trên UI hiển thị đã nhận được giao diện để chọn Pipeline. \n",
    "\n",
    "3. Tôi thực hiện run riêng để kiểm tra vấn đề : \n",
    "```\n",
    "docker stop pipelines\n",
    "docker start open-webui\n",
    "```\n",
    "\n",
    "chuyển sang: \n",
    "```\n",
    "- Ở WSL: `./start.sh`\n",
    "- Ở WSL: `docker start open-webui`\n",
    "```\n",
    "thì ngon \n",
    "\n",
    "còn khi \n",
    "```\n",
    "- Ở WSL: `./start.sh`\n",
    "- Bật 3000 ở Window: `docker run -d -p 3000:8080 -v open-webui:/app/backend/data --name open-webui --restart always ghcr.io/open-webui/open-webui:main`\n",
    "```\n",
    "thì lại bị lỗi.\n",
    "\n",
    "=> Chốt lại: 3000 ở window đang có vấn đề thì phải. \n",
    "\n",
    "\n",
    "\n",
    "\n",
    "\n"
   ]
  },
  {
   "cell_type": "markdown",
   "metadata": {},
   "source": [
    "Để chắc chắn điều trên,tôi thử: \n",
    "- Bật 3000 ở WSL: `docker start open-webui`\n",
    "- Bật 9099 ở Window: `docker run -d -p 9099:9099 --add-host=host.docker.internal:host-gateway -v pipelines:/app/pipelines --name pipelines --restart always ghcr.io/open-webui/pipelines:main`\n",
    "=> thì đúng là ngon luôn. \n",
    "\n",
    "\n"
   ]
  },
  {
   "cell_type": "code",
   "execution_count": null,
   "metadata": {},
   "outputs": [],
   "source": []
  }
 ],
 "metadata": {
  "language_info": {
   "name": "python"
  }
 },
 "nbformat": 4,
 "nbformat_minor": 2
}
