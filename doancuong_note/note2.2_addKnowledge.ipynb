{
 "cells": [
  {
   "cell_type": "markdown",
   "metadata": {},
   "source": [
    "1. Link Youtube: https://youtu.be/CDiVq3mPZc8?feature=shared\n",
    "- Link này support việc add knowledge vào pipeline. (Tuy nhiên chunk hơi bẩn)\n",
    "=> Chuyển qua dùng cách xài Pipeline để add knowledge.\n"
   ]
  },
  {
   "cell_type": "code",
   "execution_count": null,
   "metadata": {},
   "outputs": [],
   "source": []
  }
 ],
 "metadata": {
  "language_info": {
   "name": "python"
  }
 },
 "nbformat": 4,
 "nbformat_minor": 2
}
