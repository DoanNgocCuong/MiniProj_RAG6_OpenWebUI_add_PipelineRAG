{
 "cells": [
  {
   "cell_type": "markdown",
   "metadata": {},
   "source": [
    "## Thực hiện lưu từng dòng trong cột \"Đáp án\" thành 1 chunk trong Qdrant mà không cần chia nhỏ nữa,"
   ]
  },
  {
   "cell_type": "markdown",
   "metadata": {},
   "source": [
    "### Import các thư viện cần thiết"
   ]
  },
  {
   "cell_type": "code",
   "execution_count": 1,
   "metadata": {
    "colab": {
     "base_uri": "https://localhost:8080/"
    },
    "executionInfo": {
     "elapsed": 30364,
     "status": "ok",
     "timestamp": 1701544569753,
     "user": {
      "displayName": "phatjk",
      "userId": "06940104252696149723"
     },
     "user_tz": -420
    },
    "id": "bQ4HnUjc5WwI",
    "outputId": "422bb50e-05ad-4e47-819a-f71fae5e92c8"
   },
   "outputs": [
    {
     "name": "stderr",
     "output_type": "stream",
     "text": [
      "WARNING: Ignoring invalid distribution ~lask (C:\\Users\\User\\AppData\\Local\\Packages\\PythonSoftwareFoundation.Python.3.12_qbz5n2kfra8p0\\LocalCache\\local-packages\\Python312\\site-packages)\n",
      "WARNING: Ignoring invalid distribution ~lask (C:\\Users\\User\\AppData\\Local\\Packages\\PythonSoftwareFoundation.Python.3.12_qbz5n2kfra8p0\\LocalCache\\local-packages\\Python312\\site-packages)\n",
      "WARNING: Ignoring invalid distribution ~lask (C:\\Users\\User\\AppData\\Local\\Packages\\PythonSoftwareFoundation.Python.3.12_qbz5n2kfra8p0\\LocalCache\\local-packages\\Python312\\site-packages)\n",
      "WARNING: Ignoring invalid distribution ~lask (C:\\Users\\User\\AppData\\Local\\Packages\\PythonSoftwareFoundation.Python.3.12_qbz5n2kfra8p0\\LocalCache\\local-packages\\Python312\\site-packages)\n",
      "WARNING: Ignoring invalid distribution ~lask (C:\\Users\\User\\AppData\\Local\\Packages\\PythonSoftwareFoundation.Python.3.12_qbz5n2kfra8p0\\LocalCache\\local-packages\\Python312\\site-packages)\n"
     ]
    }
   ],
   "source": [
    "### Import các thư viện cần thiết\n",
    "!pip install langchain qdrant-client -q"
   ]
  },
  {
   "cell_type": "code",
   "execution_count": 2,
   "metadata": {},
   "outputs": [
    {
     "name": "stdout",
     "output_type": "stream",
     "text": [
      "Number of chunks added: 84\n"
     ]
    }
   ],
   "source": [
    "from langchain.embeddings import HuggingFaceInferenceAPIEmbeddings\n",
    "from langchain.vectorstores import Qdrant\n",
    "import pandas as pd\n",
    "\n",
    "# Define constants for Qdrant and Hugging Face API keys\n",
    "QDRANT_API_KEY = \"WbQ_\"\n",
    "QDRANT_URL = \"https://fcbf96b5-0f95-47b1-b088-dd1eba2a2758.us-east4-0.gcp.cloud.qdrant.io:6333/\"\n",
    "EMBEDDINGS_MODEL_NAME = \"sentence-transformers/paraphrase-multilingual-mpnet-base-v2\"\n",
    "HUGGINGFACE_API_KEY = \"hf_\" # Your Hugging Face API key\n",
    "COLLECTION_NAME = \"\"\n"
   ]
  },
  {
   "cell_type": "code",
   "execution_count": null,
   "metadata": {},
   "outputs": [],
   "source": [
    "\n",
    "# Load Excel data\n",
    "DATA = 'LegalRAG.xlsx'\n",
    "data = pd.read_excel(DATA)\n",
    "\n",
    "# Extract and preprocess the \"Đáp án\" column\n",
    "answers = data[\"Đáp án\"].dropna().tolist()\n"
   ]
  },
  {
   "cell_type": "code",
   "execution_count": null,
   "metadata": {},
   "outputs": [],
   "source": [
    "\n",
    "# Generate embeddings using HuggingFaceInferenceAPIEmbeddings\n",
    "embeddings = HuggingFaceInferenceAPIEmbeddings(\n",
    "    model_name=EMBEDDINGS_MODEL_NAME,\n",
    "    api_key=HUGGINGFACE_API_KEY  # Correctly setting API key\n",
    ")\n",
    "\n",
    "# Create a vector database in Qdrant\n",
    "qdrant = Qdrant.from_texts(\n",
    "    texts=answers,  # Directly use each row as a chunk\n",
    "    embedding=embeddings,\n",
    "    url=QDRANT_URL,\n",
    "    collection_name=COLLECTION_NAME,\n",
    "    api_key=QDRANT_API_KEY,\n",
    "    prefer_grpc=False,\n",
    ")\n",
    "\n",
    "# Verify if the data is added successfully\n",
    "print(f\"Number of chunks added: {len(answers)}\")\n"
   ]
  }
 ],
 "metadata": {
  "colab": {
   "authorship_tag": "ABX9TyMo/4/eme+yWt+NjHLhRca0",
   "provenance": []
  },
  "kernelspec": {
   "display_name": "Python 3",
   "name": "python3"
  },
  "language_info": {
   "codemirror_mode": {
    "name": "ipython",
    "version": 3
   },
   "file_extension": ".py",
   "mimetype": "text/x-python",
   "name": "python",
   "nbconvert_exporter": "python",
   "pygments_lexer": "ipython3",
   "version": "3.12.8"
  }
 },
 "nbformat": 4,
 "nbformat_minor": 0
}
